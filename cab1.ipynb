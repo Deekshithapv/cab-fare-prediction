{
 "cells": [
  {
   "cell_type": "code",
   "execution_count": 1,
   "metadata": {},
   "outputs": [],
   "source": [
    "#Load libraries\n",
    "import os\n",
    "import pandas as pd\n",
    "import numpy as np\n",
    "import matplotlib.pyplot as plt\n",
    "from scipy.stats import chi2_contingency\n",
    "import seaborn as sns\n",
    "from sklearn.neighbors import KNeighborsClassifier\n",
    "from random import randrange, uniform\n"
   ]
  },
  {
   "cell_type": "code",
   "execution_count": 2,
   "metadata": {},
   "outputs": [],
   "source": [
    "#Set The Current working directory\n",
    "os.chdir(\"C:/Users/HP/Documents\")\n"
   ]
  },
  {
   "cell_type": "code",
   "execution_count": 3,
   "metadata": {},
   "outputs": [
    {
     "data": {
      "text/plain": [
       "'C:\\\\Users\\\\HP\\\\Documents'"
      ]
     },
     "execution_count": 3,
     "metadata": {},
     "output_type": "execute_result"
    }
   ],
   "source": [
    "os.getcwd()\n"
   ]
  },
  {
   "cell_type": "code",
   "execution_count": 4,
   "metadata": {},
   "outputs": [],
   "source": [
    "# Load Data - Train Data\n",
    "Train_Data=(pd.read_csv('train_cab.csv', header = 0 )).drop(columns=\"pickup_datetime\")\n"
   ]
  },
  {
   "cell_type": "code",
   "execution_count": 5,
   "metadata": {},
   "outputs": [],
   "source": [
    "#Eliminate rows where the pickup and drop location points are same\n",
    "\n",
    "Train_Data=Train_Data[np.logical_and(Train_Data['pickup_longitude'] != Train_Data['dropoff_longitude'],\n",
    "                                     Train_Data['pickup_latitude'] != Train_Data['dropoff_latitude'])]\n"
   ]
  },
  {
   "cell_type": "code",
   "execution_count": 6,
   "metadata": {},
   "outputs": [],
   "source": [
    "#replace 0 with NA in the variables and convert the data wherever required for further operations\n",
    "\n",
    "Train_Data['fare_amount']= Train_Data['fare_amount'].apply(pd.to_numeric, errors='coerce')\n",
    "Train_Data['fare_amount']= Train_Data['fare_amount'].replace({0:np.nan})\n",
    "Train_Data['passenger_count']=Train_Data['passenger_count'].fillna(0)\n",
    "Train_Data['passenger_count']= Train_Data['passenger_count'].astype(int)\n",
    "Train_Data['passenger_count']=Train_Data['passenger_count'].replace({0: np.nan})\n",
    "Train_Data['pickup_longitude']= Train_Data['pickup_longitude'].replace({0:np.nan})\n",
    "Train_Data['pickup_latitude']= Train_Data['pickup_latitude'].replace({0:np.nan})\n",
    "Train_Data['dropoff_longitude']= Train_Data['dropoff_longitude'].replace({0:np.nan})\n",
    "Train_Data['dropoff_latitude']= Train_Data['dropoff_latitude'].replace({0:np.nan})\n"
   ]
  },
  {
   "cell_type": "code",
   "execution_count": 7,
   "metadata": {},
   "outputs": [
    {
     "data": {
      "text/plain": [
       "(15603, 6)"
      ]
     },
     "execution_count": 7,
     "metadata": {},
     "output_type": "execute_result"
    }
   ],
   "source": [
    "Train_Data.shape\n"
   ]
  },
  {
   "cell_type": "code",
   "execution_count": 8,
   "metadata": {},
   "outputs": [
    {
     "data": {
      "text/html": [
       "<div>\n",
       "<style scoped>\n",
       "    .dataframe tbody tr th:only-of-type {\n",
       "        vertical-align: middle;\n",
       "    }\n",
       "\n",
       "    .dataframe tbody tr th {\n",
       "        vertical-align: top;\n",
       "    }\n",
       "\n",
       "    .dataframe thead th {\n",
       "        text-align: right;\n",
       "    }\n",
       "</style>\n",
       "<table border=\"1\" class=\"dataframe\">\n",
       "  <thead>\n",
       "    <tr style=\"text-align: right;\">\n",
       "      <th></th>\n",
       "      <th>fare_amount</th>\n",
       "      <th>pickup_longitude</th>\n",
       "      <th>pickup_latitude</th>\n",
       "      <th>dropoff_longitude</th>\n",
       "      <th>dropoff_latitude</th>\n",
       "      <th>passenger_count</th>\n",
       "    </tr>\n",
       "  </thead>\n",
       "  <tbody>\n",
       "    <tr>\n",
       "      <th>0</th>\n",
       "      <td>4.5</td>\n",
       "      <td>-73.844311</td>\n",
       "      <td>40.721319</td>\n",
       "      <td>-73.841610</td>\n",
       "      <td>40.712278</td>\n",
       "      <td>1.0</td>\n",
       "    </tr>\n",
       "    <tr>\n",
       "      <th>1</th>\n",
       "      <td>16.9</td>\n",
       "      <td>-74.016048</td>\n",
       "      <td>40.711303</td>\n",
       "      <td>-73.979268</td>\n",
       "      <td>40.782004</td>\n",
       "      <td>1.0</td>\n",
       "    </tr>\n",
       "    <tr>\n",
       "      <th>2</th>\n",
       "      <td>5.7</td>\n",
       "      <td>-73.982738</td>\n",
       "      <td>40.761270</td>\n",
       "      <td>-73.991242</td>\n",
       "      <td>40.750562</td>\n",
       "      <td>2.0</td>\n",
       "    </tr>\n",
       "    <tr>\n",
       "      <th>3</th>\n",
       "      <td>7.7</td>\n",
       "      <td>-73.987130</td>\n",
       "      <td>40.733143</td>\n",
       "      <td>-73.991567</td>\n",
       "      <td>40.758092</td>\n",
       "      <td>1.0</td>\n",
       "    </tr>\n",
       "    <tr>\n",
       "      <th>4</th>\n",
       "      <td>5.3</td>\n",
       "      <td>-73.968095</td>\n",
       "      <td>40.768008</td>\n",
       "      <td>-73.956655</td>\n",
       "      <td>40.783762</td>\n",
       "      <td>1.0</td>\n",
       "    </tr>\n",
       "  </tbody>\n",
       "</table>\n",
       "</div>"
      ],
      "text/plain": [
       "   fare_amount  pickup_longitude  pickup_latitude  dropoff_longitude  \\\n",
       "0          4.5        -73.844311        40.721319         -73.841610   \n",
       "1         16.9        -74.016048        40.711303         -73.979268   \n",
       "2          5.7        -73.982738        40.761270         -73.991242   \n",
       "3          7.7        -73.987130        40.733143         -73.991567   \n",
       "4          5.3        -73.968095        40.768008         -73.956655   \n",
       "\n",
       "   dropoff_latitude  passenger_count  \n",
       "0         40.712278              1.0  \n",
       "1         40.782004              1.0  \n",
       "2         40.750562              2.0  \n",
       "3         40.758092              1.0  \n",
       "4         40.783762              1.0  "
      ]
     },
     "execution_count": 8,
     "metadata": {},
     "output_type": "execute_result"
    }
   ],
   "source": [
    "Train_Data.head()\n"
   ]
  },
  {
   "cell_type": "markdown",
   "metadata": {},
   "source": [
    "Missing Value Analysis\n"
   ]
  },
  {
   "cell_type": "code",
   "execution_count": 9,
   "metadata": {},
   "outputs": [
    {
     "name": "stdout",
     "output_type": "stream",
     "text": [
      "           Variables  count  Missing_percentage\n",
      "0    passenger_count    112            0.717811\n",
      "1        fare_amount     24            0.153817\n",
      "2   pickup_longitude     12            0.076908\n",
      "3    pickup_latitude     12            0.076908\n",
      "4  dropoff_longitude     10            0.064090\n",
      "5   dropoff_latitude      9            0.057681\n"
     ]
    }
   ],
   "source": [
    "#calculate missing values\n",
    "\n",
    "missing_val = pd.DataFrame(Train_Data.isnull().sum())\n",
    "#print(missing_val)\n",
    "\n",
    "#Reset index\n",
    "missing_val = missing_val.reset_index()\n",
    "#print(missing_val)\n",
    "\n",
    "#Rename variable\n",
    "missing_val = missing_val.rename(columns = {'index': 'Variables', 0: 'count'})\n",
    "#print(missing_val)\n",
    "\n",
    "#Calculate percentage\n",
    "missing_val['Missing_percentage'] = (missing_val['count']/len(Train_Data)*100)\n",
    "#print(missing_val)\n",
    "\n",
    "#sort in descending order\n",
    "missing_val = missing_val.sort_values('Missing_percentage', ascending = False).reset_index(drop = True)\n",
    "print(missing_val)\n"
   ]
  },
  {
   "cell_type": "markdown",
   "metadata": {},
   "source": [
    "Missing Value Imputation\n"
   ]
  },
  {
   "cell_type": "code",
   "execution_count": 10,
   "metadata": {},
   "outputs": [],
   "source": [
    "#imputation method \n",
    "#Actual value = -73.99578100000001\n",
    "#Mean = -73.91159336554888\n",
    "#Median = -73.9820605\n",
    "#KNN = -73.890529\n"
   ]
  },
  {
   "cell_type": "code",
   "execution_count": 11,
   "metadata": {},
   "outputs": [
    {
     "data": {
      "text/plain": [
       "-73.99578100000001"
      ]
     },
     "execution_count": 11,
     "metadata": {},
     "output_type": "execute_result"
    }
   ],
   "source": [
    "#Create missing value, a small test to identify which method is good for imputation\n",
    "\n",
    "Train_Data[\"pickup_longitude\"].loc[70]\n"
   ]
  },
  {
   "cell_type": "code",
   "execution_count": 12,
   "metadata": {},
   "outputs": [],
   "source": [
    "Train_Data[\"pickup_longitude\"].loc[70] = np.nan\n"
   ]
  },
  {
   "cell_type": "code",
   "execution_count": 13,
   "metadata": {},
   "outputs": [
    {
     "data": {
      "text/plain": [
       "nan"
      ]
     },
     "execution_count": 13,
     "metadata": {},
     "output_type": "execute_result"
    }
   ],
   "source": [
    "Train_Data[\"pickup_longitude\"].loc[70]\n"
   ]
  },
  {
   "cell_type": "code",
   "execution_count": 14,
   "metadata": {},
   "outputs": [],
   "source": [
    "#Mean Imputation\n",
    "#Train_Data['pickup_longitude'] = Train_Data['pickup_longitude'].fillna(Train_Data['pickup_longitude'].mean())\n",
    "\n",
    "#Train_Data[\"pickup_longitude\"].loc[70]\n"
   ]
  },
  {
   "cell_type": "code",
   "execution_count": 15,
   "metadata": {},
   "outputs": [],
   "source": [
    "#Median Imputation\n",
    "#Train_Data['pickup_longitude'] = Train_Data['pickup_longitude'].fillna(Train_Data['pickup_longitude'].median())\n",
    "\n",
    "#Train_Data[\"pickup_longitude\"].loc[70]\n"
   ]
  },
  {
   "cell_type": "code",
   "execution_count": 16,
   "metadata": {},
   "outputs": [],
   "source": [
    "#KNN imputation\n",
    "#Train_Data = pd.DataFrame(KNN(k = 1).fit_transform(Train_Data), columns = Train_Data.columns)\n",
    "\n",
    "#Train_Data[\"pickup_longitude\"].loc[70]\n"
   ]
  },
  {
   "cell_type": "code",
   "execution_count": 17,
   "metadata": {},
   "outputs": [],
   "source": [
    "#As it is found Mean is very close to original method we will proceed with imputation via mean\n",
    "Train_Data['fare_amount'] = Train_Data['fare_amount'].fillna(Train_Data['fare_amount'].mean())\n",
    "Train_Data['pickup_longitude']= Train_Data['pickup_longitude'].fillna(Train_Data['pickup_longitude'].mean())\n",
    "Train_Data['pickup_latitude']= Train_Data['pickup_latitude'].fillna(Train_Data['pickup_latitude'].mean())\n",
    "Train_Data['dropoff_longitude']= Train_Data['dropoff_longitude'].fillna(Train_Data['dropoff_longitude'].mean())\n",
    "Train_Data['dropoff_latitude']= Train_Data['dropoff_latitude'].fillna(Train_Data['dropoff_latitude'].mean())\n",
    "\n",
    "\n",
    "#And for category variables imputation is done with mode\n",
    "Train_Data['passenger_count'] = Train_Data['passenger_count'].fillna(int(Train_Data['passenger_count'].mode()))\n"
   ]
  },
  {
   "cell_type": "code",
   "execution_count": 18,
   "metadata": {},
   "outputs": [],
   "source": [
    "#Imputing the NAs in target variables may hamper the model, so it is preferred to remove NA rows of the data\n",
    "Train_Data=Train_Data.dropna()\n"
   ]
  },
  {
   "cell_type": "code",
   "execution_count": 19,
   "metadata": {},
   "outputs": [],
   "source": [
    "#conert into proper data type\n",
    "convert_dic={'fare_amount' : 'float','passenger_count': 'int'}\n",
    "Train_Data=Train_Data.astype(convert_dic)\n"
   ]
  },
  {
   "cell_type": "code",
   "execution_count": 20,
   "metadata": {},
   "outputs": [
    {
     "data": {
      "text/plain": [
       "(15603, 6)"
      ]
     },
     "execution_count": 20,
     "metadata": {},
     "output_type": "execute_result"
    }
   ],
   "source": [
    "Train_Data.shape\n"
   ]
  },
  {
   "cell_type": "markdown",
   "metadata": {},
   "source": [
    "Outlier Analysis\n"
   ]
  },
  {
   "cell_type": "code",
   "execution_count": 21,
   "metadata": {},
   "outputs": [],
   "source": [
    "#save the data with in another place with different name\n",
    "\n",
    "df = Train_Data.copy()\n",
    "Train_Data = Train_Data.copy()\n"
   ]
  },
  {
   "cell_type": "code",
   "execution_count": 22,
   "metadata": {},
   "outputs": [],
   "source": [
    "# irregular fare_amount are converted to NA \n",
    "\n",
    "Train_Data.loc[Train_Data['fare_amount']<0 , 'fare_amount']=np.nan\n",
    "Train_Data.loc[Train_Data['fare_amount'] > 30, 'fare_amount']=np.nan\n",
    "Train_Data=Train_Data.dropna()\n"
   ]
  },
  {
   "cell_type": "code",
   "execution_count": 23,
   "metadata": {},
   "outputs": [],
   "source": [
    "#irregular passenger counts or those wgich are greater then 8 convertet to NaN\n",
    "Train_Data.loc[Train_Data['passenger_count'] > 8,'passenger_count'] = np.nan\n"
   ]
  },
  {
   "cell_type": "code",
   "execution_count": 24,
   "metadata": {},
   "outputs": [],
   "source": [
    "#save numeric data names\n",
    "coutliers = [ 'pickup_longitude', 'pickup_latitude', 'dropoff_longitude', 'dropoff_latitude']\n",
    "for list in coutliers:\n",
    "    #Detect and replace with NA\n",
    "    #Extract quartiles\n",
    "    q75, q25 = np.percentile(Train_Data[list], [75 ,25])\n",
    "\n",
    "    #Calculate IQR\n",
    "    iqr = q75 - q25\n",
    "   \n",
    "    # #Calculate inner and outer fence\n",
    "    minimum = q25 - (iqr*1.5)\n",
    "    maximum = q75 + (iqr*1.5)\n",
    "\n",
    "    # #Replace with NA\n",
    "    Train_Data.loc[Train_Data[list] < minimum,list] = np.nan\n",
    "    Train_Data.loc[Train_Data[list] > maximum,list] = np.nan\n",
    "\n",
    "    # #Calculate missing value\n",
    "    missing_val = pd.DataFrame(Train_Data.isnull().sum())\n"
   ]
  },
  {
   "cell_type": "code",
   "execution_count": 25,
   "metadata": {},
   "outputs": [],
   "source": [
    "#As Mean is the best method, we impute missing values/ in this case outlier values with mean\n",
    "\n",
    "Train_Data['pickup_longitude'] = Train_Data['pickup_longitude'].fillna(Train_Data['pickup_longitude'].mean())\n",
    "Train_Data['pickup_latitude'] = Train_Data['pickup_latitude'].fillna(Train_Data['pickup_latitude'].mean())\n",
    "Train_Data['dropoff_longitude'] = Train_Data['dropoff_longitude'].fillna(Train_Data['dropoff_longitude'].mean())\n",
    "Train_Data['dropoff_latitude'] = Train_Data['dropoff_latitude'].fillna(Train_Data['dropoff_latitude'].mean())\n",
    "\n",
    "#imputed with mode for categorical variables\n",
    "Train_Data['passenger_count'] = Train_Data['passenger_count'].fillna(int(Train_Data['passenger_count'].mode()))\n"
   ]
  },
  {
   "cell_type": "code",
   "execution_count": 26,
   "metadata": {},
   "outputs": [],
   "source": [
    "#convert the data type of categorical variable passenger count\n",
    "Train_Data['passenger_count']=Train_Data['passenger_count'].astype('int')\n",
    "Train_Data['passenger_count']=Train_Data['passenger_count'].astype('category')\n"
   ]
  },
  {
   "cell_type": "markdown",
   "metadata": {},
   "source": [
    "Feature Selection\n"
   ]
  },
  {
   "cell_type": "code",
   "execution_count": 27,
   "metadata": {},
   "outputs": [],
   "source": [
    "#haversine function\n",
    "\n",
    "def haversine(lat1, lon1, lat2, lon2, to_radians=True, earth_radius=6371):\n",
    "   \n",
    "    if to_radians:\n",
    "        lat1, lon1, lat2, lon2 = np.radians([lat1, lon1, lat2, lon2])\n",
    "\n",
    "    a = np.sin((lat2-lat1)/2.0)**2 + \\\n",
    "        np.cos(lat1) * np.cos(lat2) * np.sin((lon2-lon1)/2.0)**2\n",
    "\n",
    "    return earth_radius * 2 * np.arcsin(np.sqrt(a))\n"
   ]
  },
  {
   "cell_type": "code",
   "execution_count": 28,
   "metadata": {},
   "outputs": [],
   "source": [
    "Train_Data['dist'] = \\\n",
    "    haversine( Train_Data['pickup_latitude'], Train_Data['pickup_longitude'],\n",
    "                Train_Data['dropoff_latitude'], Train_Data['dropoff_longitude'])\n"
   ]
  },
  {
   "cell_type": "code",
   "execution_count": 29,
   "metadata": {},
   "outputs": [],
   "source": [
    "##Correlation analysis\n",
    "#Correlation plot\n",
    "numeric=['fare_amount','pickup_longitude','pickup_latitude','dropoff_longitude','dropoff_latitude', 'dist']\n",
    "Train_Data_corr = Train_Data.loc[:,numeric]\n"
   ]
  },
  {
   "cell_type": "code",
   "execution_count": 30,
   "metadata": {},
   "outputs": [
    {
     "name": "stdout",
     "output_type": "stream",
     "text": [
      "                   fare_amount  pickup_longitude  pickup_latitude  \\\n",
      "fare_amount           1.000000         -0.048822        -0.057861   \n",
      "pickup_longitude     -0.048822          1.000000         0.667819   \n",
      "pickup_latitude      -0.057861          0.667819         1.000000   \n",
      "dropoff_longitude     0.047996          0.364438         0.293342   \n",
      "dropoff_latitude     -0.077377          0.318268         0.442597   \n",
      "dist                  0.670136         -0.045966        -0.081138   \n",
      "\n",
      "                   dropoff_longitude  dropoff_latitude      dist  \n",
      "fare_amount                 0.047996         -0.077377  0.670136  \n",
      "pickup_longitude            0.364438          0.318268 -0.045966  \n",
      "pickup_latitude             0.293342          0.442597 -0.081138  \n",
      "dropoff_longitude           1.000000          0.595164  0.063158  \n",
      "dropoff_latitude            0.595164          1.000000 -0.061745  \n",
      "dist                        0.063158         -0.061745  1.000000  \n"
     ]
    },
    {
     "data": {
      "text/plain": [
       "<AxesSubplot:>"
      ]
     },
     "execution_count": 30,
     "metadata": {},
     "output_type": "execute_result"
    },
    {
     "data": {
      "image/png": "[encoded data removed]",
      "text/plain": [
       "<Figure size 504x360 with 2 Axes>"
      ]
     },
     "metadata": {
      "needs_background": "light"
     },
     "output_type": "display_data"
    }
   ],
   "source": [
    "#Set the width and hieght of the plot\n",
    "f, ax = plt.subplots(figsize=(7, 5))\n",
    "\n",
    "#Generate correlation matrix\n",
    "corr = Train_Data_corr.corr()\n",
    "print(corr)\n",
    "\n",
    "#Plotted using seaborn library\n",
    "sns.heatmap(corr, mask=np.zeros_like(corr, dtype=np.bool), cmap=sns.diverging_palette(220, 10, as_cmap=True),\n",
    "            square=True, ax=ax)\n"
   ]
  },
  {
   "cell_type": "code",
   "execution_count": 31,
   "metadata": {},
   "outputs": [],
   "source": [
    " #eliminate all data with the pickup and drop location points as same\n",
    "\n",
    "Train_Data=Train_Data[np.logical_and(Train_Data['pickup_longitude'] != Train_Data['dropoff_longitude'],\n",
    "                                     Train_Data['pickup_latitude'] != Train_Data['dropoff_latitude'])]\n"
   ]
  },
  {
   "cell_type": "markdown",
   "metadata": {},
   "source": [
    "Model Development\n",
    "\n",
    "Decision Tree\n"
   ]
  },
  {
   "cell_type": "code",
   "execution_count": 32,
   "metadata": {},
   "outputs": [],
   "source": [
    "#Load libraries\n",
    "from sklearn.model_selection import train_test_split\n",
    "from sklearn.tree import DecisionTreeRegressor\n"
   ]
  },
  {
   "cell_type": "code",
   "execution_count": 33,
   "metadata": {},
   "outputs": [],
   "source": [
    "# Divide the data into train and test\n",
    "train1, test1 = train_test_split(Train_Data, test_size=0.2)\n"
   ]
  },
  {
   "cell_type": "code",
   "execution_count": 34,
   "metadata": {},
   "outputs": [],
   "source": [
    "# Decision tree for regression\n",
    "fit_DT = DecisionTreeRegressor(max_depth=2).fit(train1.iloc[:, 1:7], train1.iloc[:,0])\n"
   ]
  },
  {
   "cell_type": "code",
   "execution_count": 35,
   "metadata": {},
   "outputs": [
    {
     "data": {
      "text/plain": [
       "DecisionTreeRegressor(max_depth=2)"
      ]
     },
     "execution_count": 35,
     "metadata": {},
     "output_type": "execute_result"
    }
   ],
   "source": [
    "fit_DT\n"
   ]
  },
  {
   "cell_type": "code",
   "execution_count": 36,
   "metadata": {},
   "outputs": [],
   "source": [
    "#Apply model on test data\n",
    "predictions_DT = fit_DT.predict(test1.iloc[:,1:7])\n"
   ]
  },
  {
   "cell_type": "code",
   "execution_count": 37,
   "metadata": {},
   "outputs": [],
   "source": [
    "#Calculate MAPE\n",
    "def MAPE(y_true, y_pred): \n",
    "    mape = np.mean(np.abs((y_true - y_pred) / y_true))*100\n",
    "    return mape\n"
   ]
  },
  {
   "cell_type": "code",
   "execution_count": 38,
   "metadata": {},
   "outputs": [
    {
     "data": {
      "text/plain": [
       "27.840624911696565"
      ]
     },
     "execution_count": 38,
     "metadata": {},
     "output_type": "execute_result"
    }
   ],
   "source": [
    "MAPE(test1.iloc[:,0], predictions_DT)\n"
   ]
  },
  {
   "cell_type": "code",
   "execution_count": 39,
   "metadata": {},
   "outputs": [],
   "source": [
    "#Error 28.774663291429192\n",
    "#Accuracy 71.23\n"
   ]
  },
  {
   "cell_type": "markdown",
   "metadata": {},
   "source": [
    "Random Forest\n"
   ]
  },
  {
   "cell_type": "code",
   "execution_count": 40,
   "metadata": {},
   "outputs": [],
   "source": [
    "#Random Forest\n",
    "from sklearn.ensemble import RandomForestRegressor\n"
   ]
  },
  {
   "cell_type": "code",
   "execution_count": 41,
   "metadata": {},
   "outputs": [],
   "source": [
    "RF_model = RandomForestRegressor(n_estimators = 10).fit(train1.iloc[:, 1:7], train1.iloc[:,0])\n"
   ]
  },
  {
   "cell_type": "code",
   "execution_count": 42,
   "metadata": {},
   "outputs": [
    {
     "data": {
      "text/plain": [
       "RandomForestRegressor(n_estimators=10)"
      ]
     },
     "execution_count": 42,
     "metadata": {},
     "output_type": "execute_result"
    }
   ],
   "source": [
    "RF_model\n"
   ]
  },
  {
   "cell_type": "code",
   "execution_count": 43,
   "metadata": {},
   "outputs": [],
   "source": [
    "RF_Predictions = RF_model.predict(test1.iloc[:, 1:7])\n"
   ]
  },
  {
   "cell_type": "code",
   "execution_count": 44,
   "metadata": {},
   "outputs": [
    {
     "data": {
      "text/plain": [
       "23.552554552327532"
      ]
     },
     "execution_count": 44,
     "metadata": {},
     "output_type": "execute_result"
    }
   ],
   "source": [
    "MAPE(test1.iloc[:,0], RF_Predictions)\n"
   ]
  },
  {
   "cell_type": "code",
   "execution_count": 45,
   "metadata": {},
   "outputs": [],
   "source": [
    "#error 25.131668346501414\n",
    "#accuracy 74.87\n"
   ]
  },
  {
   "cell_type": "markdown",
   "metadata": {},
   "source": [
    "Linear Regression\n"
   ]
  },
  {
   "cell_type": "code",
   "execution_count": 46,
   "metadata": {},
   "outputs": [],
   "source": [
    "#Combine all the values in one array\n",
    "values=['fare_amount', 'pickup_longitude','pickup_latitude', 'dropoff_longitude', 'dropoff_latitude', 'dist']\n"
   ]
  },
  {
   "cell_type": "code",
   "execution_count": 47,
   "metadata": {},
   "outputs": [],
   "source": [
    "linear_Data = Train_Data[values]\n"
   ]
  },
  {
   "cell_type": "code",
   "execution_count": 48,
   "metadata": {},
   "outputs": [],
   "source": [
    "#This function is developed to get columns for specific passenger count. The idea is developed from R linear regression fit, \n",
    "#which explains all the passenger count individualy contributes in the model \n",
    "\n",
    "cat_names = ['passenger_count'] \n",
    "for i in cat_names:\n",
    "    temp = pd.get_dummies(Train_Data[i], prefix= i)\n",
    "    linear_Data = linear_Data.join(temp)\n"
   ]
  },
  {
   "cell_type": "code",
   "execution_count": 49,
   "metadata": {},
   "outputs": [
    {
     "data": {
      "text/plain": [
       "(14795, 12)"
      ]
     },
     "execution_count": 49,
     "metadata": {},
     "output_type": "execute_result"
    }
   ],
   "source": [
    "linear_Data.shape\n"
   ]
  },
  {
   "cell_type": "code",
   "execution_count": 50,
   "metadata": {},
   "outputs": [
    {
     "data": {
      "text/html": [
       "<div>\n",
       "<style scoped>\n",
       "    .dataframe tbody tr th:only-of-type {\n",
       "        vertical-align: middle;\n",
       "    }\n",
       "\n",
       "    .dataframe tbody tr th {\n",
       "        vertical-align: top;\n",
       "    }\n",
       "\n",
       "    .dataframe thead th {\n",
       "        text-align: right;\n",
       "    }\n",
       "</style>\n",
       "<table border=\"1\" class=\"dataframe\">\n",
       "  <thead>\n",
       "    <tr style=\"text-align: right;\">\n",
       "      <th></th>\n",
       "      <th>fare_amount</th>\n",
       "      <th>pickup_longitude</th>\n",
       "      <th>pickup_latitude</th>\n",
       "      <th>dropoff_longitude</th>\n",
       "      <th>dropoff_latitude</th>\n",
       "      <th>dist</th>\n",
       "      <th>passenger_count_1</th>\n",
       "      <th>passenger_count_2</th>\n",
       "      <th>passenger_count_3</th>\n",
       "      <th>passenger_count_4</th>\n",
       "      <th>passenger_count_5</th>\n",
       "      <th>passenger_count_6</th>\n",
       "    </tr>\n",
       "  </thead>\n",
       "  <tbody>\n",
       "    <tr>\n",
       "      <th>0</th>\n",
       "      <td>4.5</td>\n",
       "      <td>-73.981697</td>\n",
       "      <td>40.721319</td>\n",
       "      <td>-73.980230</td>\n",
       "      <td>40.712278</td>\n",
       "      <td>1.012886</td>\n",
       "      <td>1</td>\n",
       "      <td>0</td>\n",
       "      <td>0</td>\n",
       "      <td>0</td>\n",
       "      <td>0</td>\n",
       "      <td>0</td>\n",
       "    </tr>\n",
       "    <tr>\n",
       "      <th>1</th>\n",
       "      <td>16.9</td>\n",
       "      <td>-74.016048</td>\n",
       "      <td>40.711303</td>\n",
       "      <td>-73.979268</td>\n",
       "      <td>40.782004</td>\n",
       "      <td>8.450134</td>\n",
       "      <td>1</td>\n",
       "      <td>0</td>\n",
       "      <td>0</td>\n",
       "      <td>0</td>\n",
       "      <td>0</td>\n",
       "      <td>0</td>\n",
       "    </tr>\n",
       "    <tr>\n",
       "      <th>2</th>\n",
       "      <td>5.7</td>\n",
       "      <td>-73.982738</td>\n",
       "      <td>40.761270</td>\n",
       "      <td>-73.991242</td>\n",
       "      <td>40.750562</td>\n",
       "      <td>1.389525</td>\n",
       "      <td>0</td>\n",
       "      <td>1</td>\n",
       "      <td>0</td>\n",
       "      <td>0</td>\n",
       "      <td>0</td>\n",
       "      <td>0</td>\n",
       "    </tr>\n",
       "    <tr>\n",
       "      <th>3</th>\n",
       "      <td>7.7</td>\n",
       "      <td>-73.987130</td>\n",
       "      <td>40.733143</td>\n",
       "      <td>-73.991567</td>\n",
       "      <td>40.758092</td>\n",
       "      <td>2.799270</td>\n",
       "      <td>1</td>\n",
       "      <td>0</td>\n",
       "      <td>0</td>\n",
       "      <td>0</td>\n",
       "      <td>0</td>\n",
       "      <td>0</td>\n",
       "    </tr>\n",
       "    <tr>\n",
       "      <th>4</th>\n",
       "      <td>5.3</td>\n",
       "      <td>-73.968095</td>\n",
       "      <td>40.768008</td>\n",
       "      <td>-73.956655</td>\n",
       "      <td>40.783762</td>\n",
       "      <td>1.999157</td>\n",
       "      <td>1</td>\n",
       "      <td>0</td>\n",
       "      <td>0</td>\n",
       "      <td>0</td>\n",
       "      <td>0</td>\n",
       "      <td>0</td>\n",
       "    </tr>\n",
       "  </tbody>\n",
       "</table>\n",
       "</div>"
      ],
      "text/plain": [
       "   fare_amount  pickup_longitude  pickup_latitude  dropoff_longitude  \\\n",
       "0          4.5        -73.981697        40.721319         -73.980230   \n",
       "1         16.9        -74.016048        40.711303         -73.979268   \n",
       "2          5.7        -73.982738        40.761270         -73.991242   \n",
       "3          7.7        -73.987130        40.733143         -73.991567   \n",
       "4          5.3        -73.968095        40.768008         -73.956655   \n",
       "\n",
       "   dropoff_latitude      dist  passenger_count_1  passenger_count_2  \\\n",
       "0         40.712278  1.012886                  1                  0   \n",
       "1         40.782004  8.450134                  1                  0   \n",
       "2         40.750562  1.389525                  0                  1   \n",
       "3         40.758092  2.799270                  1                  0   \n",
       "4         40.783762  1.999157                  1                  0   \n",
       "\n",
       "   passenger_count_3  passenger_count_4  passenger_count_5  passenger_count_6  \n",
       "0                  0                  0                  0                  0  \n",
       "1                  0                  0                  0                  0  \n",
       "2                  0                  0                  0                  0  \n",
       "3                  0                  0                  0                  0  \n",
       "4                  0                  0                  0                  0  "
      ]
     },
     "execution_count": 50,
     "metadata": {},
     "output_type": "execute_result"
    }
   ],
   "source": [
    "linear_Data.head()\n"
   ]
  },
  {
   "cell_type": "code",
   "execution_count": 51,
   "metadata": {},
   "outputs": [],
   "source": [
    "#Spliting the newly created data set with passenger count dummies\n",
    "train1, test1 = train_test_split(linear_Data, test_size=0.2)\n"
   ]
  },
  {
   "cell_type": "code",
   "execution_count": 52,
   "metadata": {},
   "outputs": [],
   "source": [
    "#Import libraries for LR\n",
    "import statsmodels.api as sm\n"
   ]
  },
  {
   "cell_type": "code",
   "execution_count": 53,
   "metadata": {},
   "outputs": [],
   "source": [
    "# Train the model using the training sets\n",
    "model = sm.OLS(train1.iloc[:, 0].astype(float), train1.iloc[:, 1:12].astype(float)).fit()\n"
   ]
  },
  {
   "cell_type": "code",
   "execution_count": 54,
   "metadata": {},
   "outputs": [
    {
     "data": {
      "text/html": [
       "<table class=\"simpletable\">\n",
       "<caption>OLS Regression Results</caption>\n",
       "<tr>\n",
       "  <th>Dep. Variable:</th>       <td>fare_amount</td>   <th>  R-squared:         </th> <td>   0.444</td> \n",
       "</tr>\n",
       "<tr>\n",
       "  <th>Model:</th>                   <td>OLS</td>       <th>  Adj. R-squared:    </th> <td>   0.443</td> \n",
       "</tr>\n",
       "<tr>\n",
       "  <th>Method:</th>             <td>Least Squares</td>  <th>  F-statistic:       </th> <td>   942.7</td> \n",
       "</tr>\n",
       "<tr>\n",
       "  <th>Date:</th>             <td>Wed, 10 Mar 2021</td> <th>  Prob (F-statistic):</th>  <td>  0.00</td>  \n",
       "</tr>\n",
       "<tr>\n",
       "  <th>Time:</th>                 <td>10:10:07</td>     <th>  Log-Likelihood:    </th> <td> -32754.</td> \n",
       "</tr>\n",
       "<tr>\n",
       "  <th>No. Observations:</th>      <td> 11836</td>      <th>  AIC:               </th> <td>6.553e+04</td>\n",
       "</tr>\n",
       "<tr>\n",
       "  <th>Df Residuals:</th>          <td> 11825</td>      <th>  BIC:               </th> <td>6.561e+04</td>\n",
       "</tr>\n",
       "<tr>\n",
       "  <th>Df Model:</th>              <td>    10</td>      <th>                     </th>     <td> </td>    \n",
       "</tr>\n",
       "<tr>\n",
       "  <th>Covariance Type:</th>      <td>nonrobust</td>    <th>                     </th>     <td> </td>    \n",
       "</tr>\n",
       "</table>\n",
       "<table class=\"simpletable\">\n",
       "<tr>\n",
       "          <td></td>             <th>coef</th>     <th>std err</th>      <th>t</th>      <th>P>|t|</th>  <th>[0.025</th>    <th>0.975]</th>  \n",
       "</tr>\n",
       "<tr>\n",
       "  <th>pickup_longitude</th>  <td>  -13.5435</td> <td>    3.079</td> <td>   -4.399</td> <td> 0.000</td> <td>  -19.579</td> <td>   -7.508</td>\n",
       "</tr>\n",
       "<tr>\n",
       "  <th>pickup_latitude</th>   <td>   10.6927</td> <td>    2.384</td> <td>    4.486</td> <td> 0.000</td> <td>    6.020</td> <td>   15.365</td>\n",
       "</tr>\n",
       "<tr>\n",
       "  <th>dropoff_longitude</th> <td>   15.9120</td> <td>    2.714</td> <td>    5.863</td> <td> 0.000</td> <td>   10.593</td> <td>   21.231</td>\n",
       "</tr>\n",
       "<tr>\n",
       "  <th>dropoff_latitude</th>  <td>  -17.0517</td> <td>    2.127</td> <td>   -8.018</td> <td> 0.000</td> <td>  -21.220</td> <td>  -12.883</td>\n",
       "</tr>\n",
       "<tr>\n",
       "  <th>dist</th>              <td>    1.9769</td> <td>    0.021</td> <td>   94.452</td> <td> 0.000</td> <td>    1.936</td> <td>    2.018</td>\n",
       "</tr>\n",
       "<tr>\n",
       "  <th>passenger_count_1</th> <td>  438.9679</td> <td>  341.164</td> <td>    1.287</td> <td> 0.198</td> <td> -229.770</td> <td> 1107.705</td>\n",
       "</tr>\n",
       "<tr>\n",
       "  <th>passenger_count_2</th> <td>  439.1183</td> <td>  341.166</td> <td>    1.287</td> <td> 0.198</td> <td> -229.622</td> <td> 1107.859</td>\n",
       "</tr>\n",
       "<tr>\n",
       "  <th>passenger_count_3</th> <td>  439.1652</td> <td>  341.168</td> <td>    1.287</td> <td> 0.198</td> <td> -229.581</td> <td> 1107.911</td>\n",
       "</tr>\n",
       "<tr>\n",
       "  <th>passenger_count_4</th> <td>  439.2549</td> <td>  341.168</td> <td>    1.288</td> <td> 0.198</td> <td> -229.490</td> <td> 1108.000</td>\n",
       "</tr>\n",
       "<tr>\n",
       "  <th>passenger_count_5</th> <td>  438.9889</td> <td>  341.164</td> <td>    1.287</td> <td> 0.198</td> <td> -229.749</td> <td> 1107.727</td>\n",
       "</tr>\n",
       "<tr>\n",
       "  <th>passenger_count_6</th> <td>  439.9372</td> <td>  341.164</td> <td>    1.290</td> <td> 0.197</td> <td> -228.801</td> <td> 1108.676</td>\n",
       "</tr>\n",
       "</table>\n",
       "<table class=\"simpletable\">\n",
       "<tr>\n",
       "  <th>Omnibus:</th>       <td>5996.951</td> <th>  Durbin-Watson:     </th> <td>   2.034</td> \n",
       "</tr>\n",
       "<tr>\n",
       "  <th>Prob(Omnibus):</th>  <td> 0.000</td>  <th>  Jarque-Bera (JB):  </th> <td>45237.441</td>\n",
       "</tr>\n",
       "<tr>\n",
       "  <th>Skew:</th>           <td> 2.332</td>  <th>  Prob(JB):          </th> <td>    0.00</td> \n",
       "</tr>\n",
       "<tr>\n",
       "  <th>Kurtosis:</th>       <td>11.365</td>  <th>  Cond. No.          </th> <td>2.82e+06</td> \n",
       "</tr>\n",
       "</table><br/><br/>Notes:<br/>[1] Standard Errors assume that the covariance matrix of the errors is correctly specified.<br/>[2] The condition number is large, 2.82e+06. This might indicate that there are<br/>strong multicollinearity or other numerical problems."
      ],
      "text/plain": [
       "<class 'statsmodels.iolib.summary.Summary'>\n",
       "\"\"\"\n",
       "                            OLS Regression Results                            \n",
       "==============================================================================\n",
       "Dep. Variable:            fare_amount   R-squared:                       0.444\n",
       "Model:                            OLS   Adj. R-squared:                  0.443\n",
       "Method:                 Least Squares   F-statistic:                     942.7\n",
       "Date:                Wed, 10 Mar 2021   Prob (F-statistic):               0.00\n",
       "Time:                        10:10:07   Log-Likelihood:                -32754.\n",
       "No. Observations:               11836   AIC:                         6.553e+04\n",
       "Df Residuals:                   11825   BIC:                         6.561e+04\n",
       "Df Model:                          10                                         \n",
       "Covariance Type:            nonrobust                                         \n",
       "=====================================================================================\n",
       "                        coef    std err          t      P>|t|      [0.025      0.975]\n",
       "-------------------------------------------------------------------------------------\n",
       "pickup_longitude    -13.5435      3.079     -4.399      0.000     -19.579      -7.508\n",
       "pickup_latitude      10.6927      2.384      4.486      0.000       6.020      15.365\n",
       "dropoff_longitude    15.9120      2.714      5.863      0.000      10.593      21.231\n",
       "dropoff_latitude    -17.0517      2.127     -8.018      0.000     -21.220     -12.883\n",
       "dist                  1.9769      0.021     94.452      0.000       1.936       2.018\n",
       "passenger_count_1   438.9679    341.164      1.287      0.198    -229.770    1107.705\n",
       "passenger_count_2   439.1183    341.166      1.287      0.198    -229.622    1107.859\n",
       "passenger_count_3   439.1652    341.168      1.287      0.198    -229.581    1107.911\n",
       "passenger_count_4   439.2549    341.168      1.288      0.198    -229.490    1108.000\n",
       "passenger_count_5   438.9889    341.164      1.287      0.198    -229.749    1107.727\n",
       "passenger_count_6   439.9372    341.164      1.290      0.197    -228.801    1108.676\n",
       "==============================================================================\n",
       "Omnibus:                     5996.951   Durbin-Watson:                   2.034\n",
       "Prob(Omnibus):                  0.000   Jarque-Bera (JB):            45237.441\n",
       "Skew:                           2.332   Prob(JB):                         0.00\n",
       "Kurtosis:                      11.365   Cond. No.                     2.82e+06\n",
       "==============================================================================\n",
       "\n",
       "Notes:\n",
       "[1] Standard Errors assume that the covariance matrix of the errors is correctly specified.\n",
       "[2] The condition number is large, 2.82e+06. This might indicate that there are\n",
       "strong multicollinearity or other numerical problems.\n",
       "\"\"\""
      ]
     },
     "execution_count": 54,
     "metadata": {},
     "output_type": "execute_result"
    }
   ],
   "source": [
    "# Print out the statistics\n",
    "model.summary()\n"
   ]
  },
  {
   "cell_type": "code",
   "execution_count": 55,
   "metadata": {},
   "outputs": [],
   "source": [
    "# make the predictions by the model\n",
    "predictions_LR = model.predict(test1.iloc[:,1:12])\n"
   ]
  },
  {
   "cell_type": "code",
   "execution_count": 56,
   "metadata": {},
   "outputs": [
    {
     "data": {
      "text/plain": [
       "26.34171134424835"
      ]
     },
     "execution_count": 56,
     "metadata": {},
     "output_type": "execute_result"
    }
   ],
   "source": [
    "#Calculate MAPE\n",
    "MAPE(test1.iloc[:,0], predictions_LR)\n"
   ]
  },
  {
   "cell_type": "code",
   "execution_count": 57,
   "metadata": {},
   "outputs": [],
   "source": [
    "#Error 27.431370940383022\n",
    "#Accuracy 72.56\n"
   ]
  },
  {
   "cell_type": "markdown",
   "metadata": {},
   "source": [
    "KNN Imputation\n"
   ]
  },
  {
   "cell_type": "code",
   "execution_count": 58,
   "metadata": {},
   "outputs": [],
   "source": [
    "#KNN implementation\n",
    "from sklearn.neighbors import KNeighborsRegressor\n",
    "\n",
    "KNN_model = KNeighborsRegressor(n_neighbors = 1).fit(train1.iloc[: , 1:7], train1.iloc[:, 0])\n"
   ]
  },
  {
   "cell_type": "code",
   "execution_count": 59,
   "metadata": {},
   "outputs": [],
   "source": [
    "#predict test cases\n",
    "KNN_Predictions = KNN_model.predict(test1.iloc[: , 1:7])\n"
   ]
  },
  {
   "cell_type": "code",
   "execution_count": 60,
   "metadata": {},
   "outputs": [
    {
     "data": {
      "text/plain": [
       "32.43003601529096"
      ]
     },
     "execution_count": 60,
     "metadata": {},
     "output_type": "execute_result"
    }
   ],
   "source": [
    "MAPE(test1.iloc[:,0], KNN_Predictions)\n"
   ]
  },
  {
   "cell_type": "code",
   "execution_count": 61,
   "metadata": {},
   "outputs": [],
   "source": [
    "#error is 34.21410560965663\n",
    "#accuracy is 65.80\n"
   ]
  },
  {
   "cell_type": "markdown",
   "metadata": {},
   "source": [
    "Prediction on original test data\n"
   ]
  },
  {
   "cell_type": "code",
   "execution_count": 62,
   "metadata": {},
   "outputs": [],
   "source": [
    "pred=(pd.read_csv('test.csv', header = 0 )).drop(columns=\"pickup_datetime\")\n"
   ]
  },
  {
   "cell_type": "code",
   "execution_count": 63,
   "metadata": {},
   "outputs": [],
   "source": [
    "#create Dist variable\n",
    "pred['dist'] = \\\n",
    "    haversine( pred['pickup_latitude'], pred['pickup_longitude'],\n",
    "                 pred['dropoff_latitude'], pred['dropoff_longitude'])\n",
    "\n",
    "pred['fare_amount']=0\n",
    "pred['passenger_count']=pred['passenger_count'].astype('category')\n"
   ]
  },
  {
   "cell_type": "code",
   "execution_count": 64,
   "metadata": {},
   "outputs": [],
   "source": [
    "# Build model on the entire Train data\n",
    "RF_model = RandomForestRegressor(n_estimators = 10).fit(Train_Data.iloc[:, 1:7], Train_Data.iloc[:,0])\n",
    "\n",
    "#predict value\n",
    "pred['fare_amount'] = RF_model.predict(pred.iloc[:, 0:6])\n"
   ]
  },
  {
   "cell_type": "code",
   "execution_count": 65,
   "metadata": {},
   "outputs": [
    {
     "data": {
      "text/html": [
       "<div>\n",
       "<style scoped>\n",
       "    .dataframe tbody tr th:only-of-type {\n",
       "        vertical-align: middle;\n",
       "    }\n",
       "\n",
       "    .dataframe tbody tr th {\n",
       "        vertical-align: top;\n",
       "    }\n",
       "\n",
       "    .dataframe thead th {\n",
       "        text-align: right;\n",
       "    }\n",
       "</style>\n",
       "<table border=\"1\" class=\"dataframe\">\n",
       "  <thead>\n",
       "    <tr style=\"text-align: right;\">\n",
       "      <th></th>\n",
       "      <th>pickup_longitude</th>\n",
       "      <th>pickup_latitude</th>\n",
       "      <th>dropoff_longitude</th>\n",
       "      <th>dropoff_latitude</th>\n",
       "      <th>passenger_count</th>\n",
       "      <th>dist</th>\n",
       "      <th>fare_amount</th>\n",
       "    </tr>\n",
       "  </thead>\n",
       "  <tbody>\n",
       "    <tr>\n",
       "      <th>0</th>\n",
       "      <td>-73.973320</td>\n",
       "      <td>40.763805</td>\n",
       "      <td>-73.981430</td>\n",
       "      <td>40.743835</td>\n",
       "      <td>1</td>\n",
       "      <td>2.323259</td>\n",
       "      <td>10.15</td>\n",
       "    </tr>\n",
       "    <tr>\n",
       "      <th>1</th>\n",
       "      <td>-73.986862</td>\n",
       "      <td>40.719383</td>\n",
       "      <td>-73.998886</td>\n",
       "      <td>40.739201</td>\n",
       "      <td>1</td>\n",
       "      <td>2.425353</td>\n",
       "      <td>8.71</td>\n",
       "    </tr>\n",
       "    <tr>\n",
       "      <th>2</th>\n",
       "      <td>-73.982524</td>\n",
       "      <td>40.751260</td>\n",
       "      <td>-73.979654</td>\n",
       "      <td>40.746139</td>\n",
       "      <td>1</td>\n",
       "      <td>0.618628</td>\n",
       "      <td>4.08</td>\n",
       "    </tr>\n",
       "    <tr>\n",
       "      <th>3</th>\n",
       "      <td>-73.981160</td>\n",
       "      <td>40.767807</td>\n",
       "      <td>-73.990448</td>\n",
       "      <td>40.751635</td>\n",
       "      <td>1</td>\n",
       "      <td>1.961033</td>\n",
       "      <td>9.65</td>\n",
       "    </tr>\n",
       "    <tr>\n",
       "      <th>4</th>\n",
       "      <td>-73.966046</td>\n",
       "      <td>40.789775</td>\n",
       "      <td>-73.988565</td>\n",
       "      <td>40.744427</td>\n",
       "      <td>1</td>\n",
       "      <td>5.387301</td>\n",
       "      <td>14.74</td>\n",
       "    </tr>\n",
       "  </tbody>\n",
       "</table>\n",
       "</div>"
      ],
      "text/plain": [
       "   pickup_longitude  pickup_latitude  dropoff_longitude  dropoff_latitude  \\\n",
       "0        -73.973320        40.763805         -73.981430         40.743835   \n",
       "1        -73.986862        40.719383         -73.998886         40.739201   \n",
       "2        -73.982524        40.751260         -73.979654         40.746139   \n",
       "3        -73.981160        40.767807         -73.990448         40.751635   \n",
       "4        -73.966046        40.789775         -73.988565         40.744427   \n",
       "\n",
       "  passenger_count      dist  fare_amount  \n",
       "0               1  2.323259        10.15  \n",
       "1               1  2.425353         8.71  \n",
       "2               1  0.618628         4.08  \n",
       "3               1  1.961033         9.65  \n",
       "4               1  5.387301        14.74  "
      ]
     },
     "execution_count": 65,
     "metadata": {},
     "output_type": "execute_result"
    }
   ],
   "source": [
    "pred.head()\n"
   ]
  },
  {
   "cell_type": "code",
   "execution_count": 66,
   "metadata": {},
   "outputs": [],
   "source": [
    "#write output to csv\n",
    "\n",
    "pred.to_csv(\"Predicted_Values.csv\", index = False)\n"
   ]
  },
  {
   "cell_type": "code",
   "execution_count": null,
   "metadata": {},
   "outputs": [],
   "source": []
  },
  {
   "cell_type": "code",
   "execution_count": null,
   "metadata": {},
   "outputs": [],
   "source": []
  }
 ],
 "metadata": {
  "kernelspec": {
   "display_name": "Python 3",
   "language": "python",
   "name": "python3"
  },
  "language_info": {
   "codemirror_mode": {
    "name": "ipython",
    "version": 3
   },
   "file_extension": ".py",
   "mimetype": "text/x-python",
   "name": "python",
   "nbconvert_exporter": "python",
   "pygments_lexer": "ipython3",
   "version": "3.8.5"
  }
 },
 "nbformat": 4,
 "nbformat_minor": 4
}
